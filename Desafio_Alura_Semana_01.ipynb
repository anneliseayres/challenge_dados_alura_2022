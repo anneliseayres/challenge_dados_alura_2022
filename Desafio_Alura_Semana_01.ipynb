{
  "nbformat": 4,
  "nbformat_minor": 0,
  "metadata": {
    "colab": {
      "provenance": [],
      "authorship_tag": "ABX9TyMd+1eru9oWXUCfW+Q5Bqcx",
      "include_colab_link": true
    },
    "kernelspec": {
      "name": "python3",
      "display_name": "Python 3"
    },
    "language_info": {
      "name": "python"
    }
  },
  "cells": [
    {
      "cell_type": "markdown",
      "metadata": {
        "id": "view-in-github",
        "colab_type": "text"
      },
      "source": [
        "<a href=\"https://colab.research.google.com/github/anneliseayres/challenge_dados_alura_2022/blob/main/Desafio_Alura_Semana_01.ipynb\" target=\"_parent\"><img src=\"https://colab.research.google.com/assets/colab-badge.svg\" alt=\"Open In Colab\"/></a>"
      ]
    },
    {
      "cell_type": "markdown",
      "source": [
        "# Configurando o Spark"
      ],
      "metadata": {
        "id": "UjsaUsdnD27j"
      }
    },
    {
      "cell_type": "code",
      "execution_count": 1,
      "metadata": {
        "id": "GtIgPhT9DKx6"
      },
      "outputs": [],
      "source": [
        "!apt-get install openjdk-8-jdk-headless -qq > /dev/null"
      ]
    },
    {
      "cell_type": "code",
      "source": [
        "!wget -q https://archive.apache.org/dist/spark/spark-3.1.2/spark-3.1.2-bin-hadoop2.7.tgz"
      ],
      "metadata": {
        "id": "n5eLC34ODW43"
      },
      "execution_count": 2,
      "outputs": []
    },
    {
      "cell_type": "code",
      "source": [
        "!tar xf spark-3.1.2-bin-hadoop2.7.tgz"
      ],
      "metadata": {
        "id": "b3JR8Ul7DbIu"
      },
      "execution_count": 3,
      "outputs": []
    },
    {
      "cell_type": "code",
      "source": [
        "!pip install -q findspark"
      ],
      "metadata": {
        "id": "gtyVDvX6DdQy"
      },
      "execution_count": 4,
      "outputs": []
    },
    {
      "cell_type": "code",
      "source": [
        "import os\n",
        "os.environ[\"JAVA_HOME\"] = \"/usr/lib/jvm/java-8-openjdk-amd64\"\n",
        "os.environ[\"SPARK_HOME\"] = \"/content/spark-3.1.2-bin-hadoop2.7\""
      ],
      "metadata": {
        "id": "SJX-MAvoDh42"
      },
      "execution_count": 5,
      "outputs": []
    },
    {
      "cell_type": "code",
      "source": [
        "import findspark\n",
        "findspark.init()"
      ],
      "metadata": {
        "id": "Uv7fUgzbDjHB"
      },
      "execution_count": 6,
      "outputs": []
    },
    {
      "cell_type": "code",
      "source": [
        "from pyspark.sql import SparkSession"
      ],
      "metadata": {
        "id": "yNxxAAHoDmq2"
      },
      "execution_count": 7,
      "outputs": []
    },
    {
      "cell_type": "code",
      "source": [
        "spark = SparkSession.builder \\\n",
        "    .master('local[*]') \\\n",
        "    .appName('Iniciando com Spark') \\\n",
        "    .config('spark.ui.port', '4050') \\\n",
        "    .getOrCreate()"
      ],
      "metadata": {
        "id": "zQbarpquDpe8"
      },
      "execution_count": 8,
      "outputs": []
    },
    {
      "cell_type": "markdown",
      "source": [
        "# Código Semana 01"
      ],
      "metadata": {
        "id": "wqj5V1WGD6qd"
      }
    },
    {
      "cell_type": "markdown",
      "source": [
        "Dicionário dos Dados:\n",
        "\n",
        "*   id = \tCódigo de identificação do anúncio no sistema da InsightPlaces\n",
        "*   tipo_unidade = \tTipo de imóvel(apartamento, casa e outros)\n",
        "* tipo_uso = \tTipo de uso do imóvel (residencial ou comercial)\n",
        "* area_total = Área total do imóvel (construção e terreno)\n",
        "* area_util = Área construída do imóvel\n",
        "* quartos\t= Quantidade de quartos do imóvel\n",
        "* suites =\tQuantidade de suítes do imóvel\n",
        "* banheiros =\tQuantidade de banheiros do imóvel\n",
        "* vaga =\tQuantidade de vagas de garagem do imóvel\n",
        "* caracteristicas =\tListagem de características do imóvel\n",
        "* andar\t= Número do andar do imóvel\n",
        "* endereco\t= Informações sobre o endereço do imóvel\n",
        "* valores\t= Informações sobre valores de venda e locação dos imóveis\n",
        "\n"
      ],
      "metadata": {
        "id": "oG532mgCGE6v"
      }
    },
    {
      "cell_type": "code",
      "source": [
        "# os dados estão en json usar dataframe.printSchema()"
      ],
      "metadata": {
        "id": "E7cRFzfWD8YQ"
      },
      "execution_count": 9,
      "outputs": []
    },
    {
      "cell_type": "code",
      "source": [],
      "metadata": {
        "id": "WtFz-2quGT16"
      },
      "execution_count": null,
      "outputs": []
    }
  ]
}